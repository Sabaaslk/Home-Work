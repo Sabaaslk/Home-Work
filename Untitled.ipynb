{
 "cells": [
  {
   "cell_type": "markdown",
   "id": "ae8f3087-84b3-4893-a2fa-b8015cd90df8",
   "metadata": {},
   "source": [
    "# Q1. write a function sum_of_list that takes a list of integeres as input and returns the sum of all the integeres in the list."
   ]
  },
  {
   "cell_type": "code",
   "execution_count": 13,
   "id": "db4b335c-8ea1-4a51-b88c-9d771bbd9486",
   "metadata": {},
   "outputs": [
    {
     "name": "stdout",
     "output_type": "stream",
     "text": [
      "<function sum_of_list at 0x12f9b6840>\n"
     ]
    }
   ],
   "source": [
    "numbers=[5,6,8,9]\n",
    "def sum_of_list(numbers):\n",
    "    return sum_of_list(numbers)\n",
    "print (sum_of_list)"
   ]
  },
  {
   "cell_type": "markdown",
   "id": "9d8e7dbe-c167-42c6-b64d-8ad84893fea5",
   "metadata": {},
   "source": [
    "# Q2.Create a function check_key that accepts a dictionary and a key as input. the function should return True if the key exists in the dictionary and False otherwise."
   ]
  },
  {
   "cell_type": "code",
   "execution_count": null,
   "id": "923d67ae-0b34-4916-9932-da5df0c72e63",
   "metadata": {},
   "outputs": [],
   "source": [
    "def check_key(keys):\n",
    "    "
   ]
  },
  {
   "cell_type": "markdown",
   "id": "78bede18-5023-4308-98d4-d27efdc0c803",
   "metadata": {},
   "source": [
    "# Q3. write a function reverse_string that takes a string as input and returns the string reversed."
   ]
  },
  {
   "cell_type": "code",
   "execution_count": 16,
   "id": "a573bc05-ace3-499e-a23d-f73cc9beeb3b",
   "metadata": {},
   "outputs": [],
   "source": [
    "def reverse_string(strings):\n",
    "    string= 'sabaa'[::-1]\n",
    "    return strings"
   ]
  },
  {
   "cell_type": "code",
   "execution_count": null,
   "id": "9241da33-3b31-4105-9861-c8b0a0d6243a",
   "metadata": {},
   "outputs": [],
   "source": []
  }
 ],
 "metadata": {
  "kernelspec": {
   "display_name": "Python 3 (ipykernel)",
   "language": "python",
   "name": "python3"
  },
  "language_info": {
   "codemirror_mode": {
    "name": "ipython",
    "version": 3
   },
   "file_extension": ".py",
   "mimetype": "text/x-python",
   "name": "python",
   "nbconvert_exporter": "python",
   "pygments_lexer": "ipython3",
   "version": "3.12.4"
  }
 },
 "nbformat": 4,
 "nbformat_minor": 5
}
